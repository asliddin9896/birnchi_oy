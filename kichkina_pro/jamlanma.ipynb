{
 "cells": [
  {
   "cell_type": "markdown",
   "id": "8e2b64b7",
   "metadata": {},
   "source": [
    "# Bizning datamiz \"house_price\" data bolib bizning maqsadimiz \"totalPrice\" bashorot \n",
    "# Bini regression algoritmlaridan model yasab yaxshi model yasab, bu modelimiz kelajakdagi uylarni narxirni bashorat qilib beradi"
   ]
  },
  {
   "cell_type": "code",
   "execution_count": null,
   "id": "e655f3e3",
   "metadata": {},
   "outputs": [],
   "source": [
    "# men bu yerda foydalangan algorithmlarim  men bu yerda ularni hammasini sinab yaxshi natija olishga harakat qildim\n",
    "\n",
    "#  LinearRegression  \n",
    "# MSE (Xatolik): 4421.431664565771\n",
    "# R² (Tushuntirilgan dispersiya): 0.80\n",
    "\n",
    "#  DecisionTreeRegressor\n",
    "# MSE: 4038.0789418044606\n",
    "# R2: 0.8186567196217691\n",
    "\n",
    "#  RandomForestRegressor\n",
    "# MSE: 1336.923653373047\n",
    "# R2: 0.9403034475817191\n",
    "\n",
    "#  SVR (Support Vector Regression)\n",
    "\n",
    "\n",
    "# Umumiy natijani korsak \"RandomForestRegressor\" eng yaxshi natijani qayd etdi"
   ]
  },
  {
   "cell_type": "code",
   "execution_count": 33,
   "id": "8c526341",
   "metadata": {},
   "outputs": [],
   "source": [
    "import numpy as np\n",
    "import pandas as pd\n",
    "from sklearn.model_selection import train_test_split"
   ]
  },
  {
   "cell_type": "code",
   "execution_count": 34,
   "id": "561bae23",
   "metadata": {},
   "outputs": [],
   "source": [
    "df = pd.read_csv('house_price.txt')"
   ]
  },
  {
   "cell_type": "code",
   "execution_count": 35,
   "metadata": {},
   "outputs": [
    {
     "name": "stdout",
     "output_type": "stream",
     "text": [
      "<class 'pandas.core.frame.DataFrame'>\n",
      "RangeIndex: 283901 entries, 0 to 283900\n",
      "Data columns (total 46 columns):\n",
      " #   Column                 Non-Null Count   Dtype  \n",
      "---  ------                 --------------   -----  \n",
      " 0   Unnamed: 0             283901 non-null  int64  \n",
      " 1   Lng                    283900 non-null  float64\n",
      " 2   Lat                    283901 non-null  float64\n",
      " 3   tradeTime              283901 non-null  int64  \n",
      " 4   followers              283901 non-null  float64\n",
      " 5   totalPrice             283901 non-null  float64\n",
      " 6   square                 283901 non-null  float64\n",
      " 7   livingRoom             283901 non-null  float64\n",
      " 8   drawingRoom            283901 non-null  float64\n",
      " 9   kitchen                283901 non-null  float64\n",
      " 10  bathRoom               283901 non-null  float64\n",
      " 11  constructionTime       283901 non-null  float64\n",
      " 12  ladderRatio            283901 non-null  float64\n",
      " 13  fiveYearsProperty      283901 non-null  float64\n",
      " 14  subway                 283901 non-null  float64\n",
      " 15  communityAverage       283901 non-null  float64\n",
      " 16  floor_height           283901 non-null  float64\n",
      " 17  renovationCondition_2  283901 non-null  int64  \n",
      " 18  renovationCondition_3  283901 non-null  int64  \n",
      " 19  renovationCondition_4  283901 non-null  int64  \n",
      " 20  buildingStructure_2    283901 non-null  int64  \n",
      " 21  buildingStructure_3    283901 non-null  int64  \n",
      " 22  buildingStructure_4    283901 non-null  int64  \n",
      " 23  buildingStructure_5    283901 non-null  int64  \n",
      " 24  buildingStructure_6    283901 non-null  int64  \n",
      " 25  buildingType_2.0       283901 non-null  int64  \n",
      " 26  buildingType_3.0       283901 non-null  int64  \n",
      " 27  buildingType_4.0       283901 non-null  int64  \n",
      " 28  district_2             283901 non-null  int64  \n",
      " 29  district_3             283901 non-null  int64  \n",
      " 30  district_4             283901 non-null  int64  \n",
      " 31  district_5             283901 non-null  int64  \n",
      " 32  district_6             283901 non-null  int64  \n",
      " 33  district_7             283901 non-null  int64  \n",
      " 34  district_8             283901 non-null  int64  \n",
      " 35  district_9             283901 non-null  int64  \n",
      " 36  district_10            283901 non-null  int64  \n",
      " 37  district_11            283901 non-null  int64  \n",
      " 38  district_12            283901 non-null  int64  \n",
      " 39  district_13            283901 non-null  int64  \n",
      " 40  elevator_1.0           283901 non-null  int64  \n",
      " 41  floor_type_低           283901 non-null  int64  \n",
      " 42  floor_type_底           283901 non-null  int64  \n",
      " 43  floor_type_未知          283901 non-null  int64  \n",
      " 44  floor_type_顶           283901 non-null  int64  \n",
      " 45  floor_type_高           283901 non-null  int64  \n",
      "dtypes: float64(15), int64(31)\n",
      "memory usage: 99.6 MB\n"
     ]
    }
   ],
   "source": [
    "df.info()"
   ]
  },
  {
   "cell_type": "code",
   "execution_count": 7,
   "id": "e5a32de8",
   "metadata": {},
   "outputs": [
    {
     "data": {
      "text/plain": [
       "Unnamed: 0               0\n",
       "Lng                      1\n",
       "Lat                      0\n",
       "tradeTime                0\n",
       "followers                0\n",
       "totalPrice               0\n",
       "square                   0\n",
       "livingRoom               0\n",
       "drawingRoom              0\n",
       "kitchen                  0\n",
       "bathRoom                 0\n",
       "constructionTime         0\n",
       "ladderRatio              0\n",
       "fiveYearsProperty        0\n",
       "subway                   0\n",
       "communityAverage         0\n",
       "floor_height             0\n",
       "renovationCondition_2    0\n",
       "renovationCondition_3    0\n",
       "renovationCondition_4    0\n",
       "buildingStructure_2      0\n",
       "buildingStructure_3      0\n",
       "buildingStructure_4      0\n",
       "buildingStructure_5      0\n",
       "buildingStructure_6      0\n",
       "buildingType_2.0         0\n",
       "buildingType_3.0         0\n",
       "buildingType_4.0         0\n",
       "district_2               0\n",
       "district_3               0\n",
       "district_4               0\n",
       "district_5               0\n",
       "district_6               0\n",
       "district_7               0\n",
       "district_8               0\n",
       "district_9               0\n",
       "district_10              0\n",
       "district_11              0\n",
       "district_12              0\n",
       "district_13              0\n",
       "elevator_1.0             0\n",
       "floor_type_低             0\n",
       "floor_type_底             0\n",
       "floor_type_未知            0\n",
       "floor_type_顶             0\n",
       "floor_type_高             0\n",
       "dtype: int64"
      ]
     },
     "execution_count": 7,
     "metadata": {},
     "output_type": "execute_result"
    }
   ],
   "source": [
    "# bizda bu yerda non qiymatlarimiz bor , bazi qiymatlarnimiz tushib qolgan \n",
    "# biz ularni toldirib chiqamiz\n",
    "df.isnull().sum()"
   ]
  },
  {
   "cell_type": "code",
   "execution_count": 8,
   "metadata": {},
   "outputs": [],
   "source": [
    "# bu yerda biz tushurib qoldirilgan qiymatimiz oobject bolsa mode bilan toldir\n",
    "# yoli mean bilan toldil deb aytayapmiz\n",
    "def tozala(df):\n",
    "    for col in df.columns:\n",
    "        if df[col].isnull().any():\n",
    "            if df[col].dtype=='object':\n",
    "                df[col].fillna(df[col].mode()[0],inplace=True)\n",
    "            else:\n",
    "                df[col].fillna(df[col].mean(),inplace=True)\n",
    "    return df"
   ]
  },
  {
   "cell_type": "code",
   "execution_count": 9,
   "metadata": {},
   "outputs": [
    {
     "name": "stdout",
     "output_type": "stream",
     "text": [
      "<class 'pandas.core.frame.DataFrame'>\n",
      "RangeIndex: 283901 entries, 0 to 283900\n",
      "Data columns (total 46 columns):\n",
      " #   Column                 Non-Null Count   Dtype  \n",
      "---  ------                 --------------   -----  \n",
      " 0   Unnamed: 0             283901 non-null  int64  \n",
      " 1   Lng                    283900 non-null  float64\n",
      " 2   Lat                    283901 non-null  float64\n",
      " 3   tradeTime              283901 non-null  int64  \n",
      " 4   followers              283901 non-null  float64\n",
      " 5   totalPrice             283901 non-null  float64\n",
      " 6   square                 283901 non-null  float64\n",
      " 7   livingRoom             283901 non-null  float64\n",
      " 8   drawingRoom            283901 non-null  float64\n",
      " 9   kitchen                283901 non-null  float64\n",
      " 10  bathRoom               283901 non-null  float64\n",
      " 11  constructionTime       283901 non-null  float64\n",
      " 12  ladderRatio            283901 non-null  float64\n",
      " 13  fiveYearsProperty      283901 non-null  float64\n",
      " 14  subway                 283901 non-null  float64\n",
      " 15  communityAverage       283901 non-null  float64\n",
      " 16  floor_height           283901 non-null  float64\n",
      " 17  renovationCondition_2  283901 non-null  int64  \n",
      " 18  renovationCondition_3  283901 non-null  int64  \n",
      " 19  renovationCondition_4  283901 non-null  int64  \n",
      " 20  buildingStructure_2    283901 non-null  int64  \n",
      " 21  buildingStructure_3    283901 non-null  int64  \n",
      " 22  buildingStructure_4    283901 non-null  int64  \n",
      " 23  buildingStructure_5    283901 non-null  int64  \n",
      " 24  buildingStructure_6    283901 non-null  int64  \n",
      " 25  buildingType_2.0       283901 non-null  int64  \n",
      " 26  buildingType_3.0       283901 non-null  int64  \n",
      " 27  buildingType_4.0       283901 non-null  int64  \n",
      " 28  district_2             283901 non-null  int64  \n",
      " 29  district_3             283901 non-null  int64  \n",
      " 30  district_4             283901 non-null  int64  \n",
      " 31  district_5             283901 non-null  int64  \n",
      " 32  district_6             283901 non-null  int64  \n",
      " 33  district_7             283901 non-null  int64  \n",
      " 34  district_8             283901 non-null  int64  \n",
      " 35  district_9             283901 non-null  int64  \n",
      " 36  district_10            283901 non-null  int64  \n",
      " 37  district_11            283901 non-null  int64  \n",
      " 38  district_12            283901 non-null  int64  \n",
      " 39  district_13            283901 non-null  int64  \n",
      " 40  elevator_1.0           283901 non-null  int64  \n",
      " 41  floor_type_低           283901 non-null  int64  \n",
      " 42  floor_type_底           283901 non-null  int64  \n",
      " 43  floor_type_未知          283901 non-null  int64  \n",
      " 44  floor_type_顶           283901 non-null  int64  \n",
      " 45  floor_type_高           283901 non-null  int64  \n",
      "dtypes: float64(15), int64(31)\n",
      "memory usage: 99.6 MB\n"
     ]
    }
   ],
   "source": [
    "# endi korib turganimizdek bizni tushurib qoldirilgan qiymatlarimiz hammasi toldirildi\n",
    "# yani hammasi columslarimiz 891 tadan boldi\n",
    "df.info()"
   ]
  },
  {
   "cell_type": "code",
   "execution_count": 10,
   "metadata": {},
   "outputs": [],
   "source": [
    "# Biz endi labelencoding qilayapmiz yani bizni datalarda object qiymatlar bolsa ullarni\n",
    "# float bilan int qiymatlarga ajratayapmiz\n",
    "\n",
    "from sklearn.preprocessing import LabelEncoder"
   ]
  },
  {
   "cell_type": "code",
   "execution_count": 11,
   "metadata": {},
   "outputs": [],
   "source": [
    "def encodlash(df):\n",
    "    df = df.copy() \n",
    "    le = LabelEncoder()\n",
    "    for col in df.columns:\n",
    "        if df[col].dtype == 'object':\n",
    "            if df[col].nunique() <= 6:\n",
    "                dummies = pd.get_dummies(df[col], prefix=col, dtype=int)\n",
    "                df = pd.concat([df.drop(columns=[col]), dummies], axis=1)\n",
    "            else:\n",
    "                df[col] = le.fit_transform(df[col])\n",
    "    \n",
    "    return df\n"
   ]
  },
  {
   "cell_type": "code",
   "execution_count": 12,
   "metadata": {},
   "outputs": [],
   "source": [
    "df=encodlash(df)"
   ]
  },
  {
   "cell_type": "code",
   "execution_count": 13,
   "id": "630cb336",
   "metadata": {},
   "outputs": [],
   "source": [
    "from sklearn.preprocessing import StandardScaler"
   ]
  },
  {
   "cell_type": "code",
   "execution_count": 14,
   "id": "5b69cbaa",
   "metadata": {},
   "outputs": [],
   "source": [
    "standart_scaler=StandardScaler()"
   ]
  },
  {
   "cell_type": "code",
   "execution_count": 15,
   "id": "91fdb4ff",
   "metadata": {},
   "outputs": [],
   "source": [
    "def scaling_qil(df):\n",
    "    numerical_col=df.select_dtypes(include=['int32','int64','float64']).columns.drop('totalPrice')\n",
    "    df[numerical_col]=standart_scaler.fit_transform(df[numerical_col])\n",
    "    return df"
   ]
  },
  {
   "cell_type": "code",
   "execution_count": 16,
   "id": "dd6e86d4",
   "metadata": {},
   "outputs": [],
   "source": [
    "df=scaling_qil(df)"
   ]
  },
  {
   "cell_type": "code",
   "execution_count": 17,
   "id": "a527e183",
   "metadata": {},
   "outputs": [
    {
     "data": {
      "text/html": [
       "<div>\n",
       "<style scoped>\n",
       "    .dataframe tbody tr th:only-of-type {\n",
       "        vertical-align: middle;\n",
       "    }\n",
       "\n",
       "    .dataframe tbody tr th {\n",
       "        vertical-align: top;\n",
       "    }\n",
       "\n",
       "    .dataframe thead th {\n",
       "        text-align: right;\n",
       "    }\n",
       "</style>\n",
       "<table border=\"1\" class=\"dataframe\">\n",
       "  <thead>\n",
       "    <tr style=\"text-align: right;\">\n",
       "      <th></th>\n",
       "      <th>Unnamed: 0</th>\n",
       "      <th>Lng</th>\n",
       "      <th>Lat</th>\n",
       "      <th>tradeTime</th>\n",
       "      <th>followers</th>\n",
       "      <th>totalPrice</th>\n",
       "      <th>square</th>\n",
       "      <th>livingRoom</th>\n",
       "      <th>drawingRoom</th>\n",
       "      <th>kitchen</th>\n",
       "      <th>...</th>\n",
       "      <th>district_10</th>\n",
       "      <th>district_11</th>\n",
       "      <th>district_12</th>\n",
       "      <th>district_13</th>\n",
       "      <th>elevator_1.0</th>\n",
       "      <th>floor_type_低</th>\n",
       "      <th>floor_type_底</th>\n",
       "      <th>floor_type_未知</th>\n",
       "      <th>floor_type_顶</th>\n",
       "      <th>floor_type_高</th>\n",
       "    </tr>\n",
       "  </thead>\n",
       "  <tbody>\n",
       "    <tr>\n",
       "      <th>0</th>\n",
       "      <td>-1.750975</td>\n",
       "      <td>-3.077065</td>\n",
       "      <td>0.750755</td>\n",
       "      <td>0.757725</td>\n",
       "      <td>2.591319</td>\n",
       "      <td>415.0</td>\n",
       "      <td>1.636200</td>\n",
       "      <td>0.045206</td>\n",
       "      <td>-0.297015</td>\n",
       "      <td>0.06223</td>\n",
       "      <td>...</td>\n",
       "      <td>-0.320501</td>\n",
       "      <td>-0.210683</td>\n",
       "      <td>-0.075685</td>\n",
       "      <td>-0.179334</td>\n",
       "      <td>0.892755</td>\n",
       "      <td>-0.4987</td>\n",
       "      <td>-0.296602</td>\n",
       "      <td>-0.057514</td>\n",
       "      <td>-0.372451</td>\n",
       "      <td>1.888642</td>\n",
       "    </tr>\n",
       "    <tr>\n",
       "      <th>1</th>\n",
       "      <td>-1.750964</td>\n",
       "      <td>0.308280</td>\n",
       "      <td>-0.733525</td>\n",
       "      <td>0.757725</td>\n",
       "      <td>3.171573</td>\n",
       "      <td>575.0</td>\n",
       "      <td>1.680110</td>\n",
       "      <td>0.045206</td>\n",
       "      <td>1.699595</td>\n",
       "      <td>0.06223</td>\n",
       "      <td>...</td>\n",
       "      <td>-0.320501</td>\n",
       "      <td>-0.210683</td>\n",
       "      <td>-0.075685</td>\n",
       "      <td>-0.179334</td>\n",
       "      <td>0.892755</td>\n",
       "      <td>-0.4987</td>\n",
       "      <td>-0.296602</td>\n",
       "      <td>-0.057514</td>\n",
       "      <td>-0.372451</td>\n",
       "      <td>1.888642</td>\n",
       "    </tr>\n",
       "    <tr>\n",
       "      <th>2</th>\n",
       "      <td>-1.750942</td>\n",
       "      <td>0.167089</td>\n",
       "      <td>1.359522</td>\n",
       "      <td>0.757725</td>\n",
       "      <td>3.519726</td>\n",
       "      <td>297.5</td>\n",
       "      <td>1.731657</td>\n",
       "      <td>1.402143</td>\n",
       "      <td>-0.297015</td>\n",
       "      <td>0.06223</td>\n",
       "      <td>...</td>\n",
       "      <td>-0.320501</td>\n",
       "      <td>-0.210683</td>\n",
       "      <td>-0.075685</td>\n",
       "      <td>-0.179334</td>\n",
       "      <td>0.892755</td>\n",
       "      <td>-0.4987</td>\n",
       "      <td>3.371525</td>\n",
       "      <td>-0.057514</td>\n",
       "      <td>-0.372451</td>\n",
       "      <td>-0.529481</td>\n",
       "    </tr>\n",
       "    <tr>\n",
       "      <th>3</th>\n",
       "      <td>-1.750931</td>\n",
       "      <td>0.081719</td>\n",
       "      <td>-0.683022</td>\n",
       "      <td>0.757725</td>\n",
       "      <td>7.813605</td>\n",
       "      <td>392.0</td>\n",
       "      <td>0.045247</td>\n",
       "      <td>0.045206</td>\n",
       "      <td>-0.297015</td>\n",
       "      <td>0.06223</td>\n",
       "      <td>...</td>\n",
       "      <td>-0.320501</td>\n",
       "      <td>-0.210683</td>\n",
       "      <td>-0.075685</td>\n",
       "      <td>-0.179334</td>\n",
       "      <td>-1.120128</td>\n",
       "      <td>-0.4987</td>\n",
       "      <td>-0.296602</td>\n",
       "      <td>-0.057514</td>\n",
       "      <td>-0.372451</td>\n",
       "      <td>-0.529481</td>\n",
       "    </tr>\n",
       "    <tr>\n",
       "      <th>4</th>\n",
       "      <td>-1.750920</td>\n",
       "      <td>0.418015</td>\n",
       "      <td>0.447877</td>\n",
       "      <td>0.757725</td>\n",
       "      <td>1.169697</td>\n",
       "      <td>275.6</td>\n",
       "      <td>-0.845686</td>\n",
       "      <td>-1.311731</td>\n",
       "      <td>-2.293625</td>\n",
       "      <td>0.06223</td>\n",
       "      <td>...</td>\n",
       "      <td>-0.320501</td>\n",
       "      <td>-0.210683</td>\n",
       "      <td>-0.075685</td>\n",
       "      <td>-0.179334</td>\n",
       "      <td>0.892755</td>\n",
       "      <td>-0.4987</td>\n",
       "      <td>-0.296602</td>\n",
       "      <td>-0.057514</td>\n",
       "      <td>-0.372451</td>\n",
       "      <td>-0.529481</td>\n",
       "    </tr>\n",
       "  </tbody>\n",
       "</table>\n",
       "<p>5 rows × 46 columns</p>\n",
       "</div>"
      ],
      "text/plain": [
       "   Unnamed: 0       Lng       Lat  tradeTime  followers  totalPrice    square  \\\n",
       "0   -1.750975 -3.077065  0.750755   0.757725   2.591319       415.0  1.636200   \n",
       "1   -1.750964  0.308280 -0.733525   0.757725   3.171573       575.0  1.680110   \n",
       "2   -1.750942  0.167089  1.359522   0.757725   3.519726       297.5  1.731657   \n",
       "3   -1.750931  0.081719 -0.683022   0.757725   7.813605       392.0  0.045247   \n",
       "4   -1.750920  0.418015  0.447877   0.757725   1.169697       275.6 -0.845686   \n",
       "\n",
       "   livingRoom  drawingRoom  kitchen  ...  district_10  district_11  \\\n",
       "0    0.045206    -0.297015  0.06223  ...    -0.320501    -0.210683   \n",
       "1    0.045206     1.699595  0.06223  ...    -0.320501    -0.210683   \n",
       "2    1.402143    -0.297015  0.06223  ...    -0.320501    -0.210683   \n",
       "3    0.045206    -0.297015  0.06223  ...    -0.320501    -0.210683   \n",
       "4   -1.311731    -2.293625  0.06223  ...    -0.320501    -0.210683   \n",
       "\n",
       "   district_12  district_13  elevator_1.0  floor_type_低  floor_type_底  \\\n",
       "0    -0.075685    -0.179334      0.892755       -0.4987     -0.296602   \n",
       "1    -0.075685    -0.179334      0.892755       -0.4987     -0.296602   \n",
       "2    -0.075685    -0.179334      0.892755       -0.4987      3.371525   \n",
       "3    -0.075685    -0.179334     -1.120128       -0.4987     -0.296602   \n",
       "4    -0.075685    -0.179334      0.892755       -0.4987     -0.296602   \n",
       "\n",
       "   floor_type_未知  floor_type_顶  floor_type_高  \n",
       "0      -0.057514     -0.372451      1.888642  \n",
       "1      -0.057514     -0.372451      1.888642  \n",
       "2      -0.057514     -0.372451     -0.529481  \n",
       "3      -0.057514     -0.372451     -0.529481  \n",
       "4      -0.057514     -0.372451     -0.529481  \n",
       "\n",
       "[5 rows x 46 columns]"
      ]
     },
     "execution_count": 17,
     "metadata": {},
     "output_type": "execute_result"
    }
   ],
   "source": [
    "df.head()"
   ]
  },
  {
   "cell_type": "code",
   "execution_count": 18,
   "id": "472688be",
   "metadata": {},
   "outputs": [
    {
     "name": "stdout",
     "output_type": "stream",
     "text": [
      "<class 'pandas.core.frame.DataFrame'>\n",
      "RangeIndex: 283901 entries, 0 to 283900\n",
      "Data columns (total 46 columns):\n",
      " #   Column                 Non-Null Count   Dtype  \n",
      "---  ------                 --------------   -----  \n",
      " 0   Unnamed: 0             283901 non-null  float64\n",
      " 1   Lng                    283900 non-null  float64\n",
      " 2   Lat                    283901 non-null  float64\n",
      " 3   tradeTime              283901 non-null  float64\n",
      " 4   followers              283901 non-null  float64\n",
      " 5   totalPrice             283901 non-null  float64\n",
      " 6   square                 283901 non-null  float64\n",
      " 7   livingRoom             283901 non-null  float64\n",
      " 8   drawingRoom            283901 non-null  float64\n",
      " 9   kitchen                283901 non-null  float64\n",
      " 10  bathRoom               283901 non-null  float64\n",
      " 11  constructionTime       283901 non-null  float64\n",
      " 12  ladderRatio            283901 non-null  float64\n",
      " 13  fiveYearsProperty      283901 non-null  float64\n",
      " 14  subway                 283901 non-null  float64\n",
      " 15  communityAverage       283901 non-null  float64\n",
      " 16  floor_height           283901 non-null  float64\n",
      " 17  renovationCondition_2  283901 non-null  float64\n",
      " 18  renovationCondition_3  283901 non-null  float64\n",
      " 19  renovationCondition_4  283901 non-null  float64\n",
      " 20  buildingStructure_2    283901 non-null  float64\n",
      " 21  buildingStructure_3    283901 non-null  float64\n",
      " 22  buildingStructure_4    283901 non-null  float64\n",
      " 23  buildingStructure_5    283901 non-null  float64\n",
      " 24  buildingStructure_6    283901 non-null  float64\n",
      " 25  buildingType_2.0       283901 non-null  float64\n",
      " 26  buildingType_3.0       283901 non-null  float64\n",
      " 27  buildingType_4.0       283901 non-null  float64\n",
      " 28  district_2             283901 non-null  float64\n",
      " 29  district_3             283901 non-null  float64\n",
      " 30  district_4             283901 non-null  float64\n",
      " 31  district_5             283901 non-null  float64\n",
      " 32  district_6             283901 non-null  float64\n",
      " 33  district_7             283901 non-null  float64\n",
      " 34  district_8             283901 non-null  float64\n",
      " 35  district_9             283901 non-null  float64\n",
      " 36  district_10            283901 non-null  float64\n",
      " 37  district_11            283901 non-null  float64\n",
      " 38  district_12            283901 non-null  float64\n",
      " 39  district_13            283901 non-null  float64\n",
      " 40  elevator_1.0           283901 non-null  float64\n",
      " 41  floor_type_低           283901 non-null  float64\n",
      " 42  floor_type_底           283901 non-null  float64\n",
      " 43  floor_type_未知          283901 non-null  float64\n",
      " 44  floor_type_顶           283901 non-null  float64\n",
      " 45  floor_type_高           283901 non-null  float64\n",
      "dtypes: float64(46)\n",
      "memory usage: 99.6 MB\n"
     ]
    }
   ],
   "source": [
    "df.info()"
   ]
  },
  {
   "cell_type": "code",
   "execution_count": 19,
   "id": "d8c28772",
   "metadata": {},
   "outputs": [],
   "source": [
    "df = df.replace([np.inf, -np.inf], np.nan)\n",
    "df = df.fillna(df.median())\n"
   ]
  },
  {
   "cell_type": "code",
   "execution_count": 20,
   "id": "4a4dd65e",
   "metadata": {},
   "outputs": [],
   "source": [
    "x = df.drop(['totalPrice'], axis=1)\n",
    "y = df[['totalPrice']]\n"
   ]
  },
  {
   "cell_type": "code",
   "execution_count": null,
   "id": "907dff6e",
   "metadata": {},
   "outputs": [],
   "source": [
    "\n"
   ]
  },
  {
   "cell_type": "code",
   "execution_count": 28,
   "id": "48be7a48",
   "metadata": {},
   "outputs": [],
   "source": [
    "import matplotlib.pyplot as plt\n",
    "import seaborn as sns\n",
    "%matplotlib inline"
   ]
  },
  {
   "cell_type": "code",
   "execution_count": null,
   "id": "a8783648",
   "metadata": {},
   "outputs": [],
   "source": []
  },
  {
   "cell_type": "code",
   "execution_count": 29,
   "id": "454bf32e",
   "metadata": {},
   "outputs": [],
   "source": [
    "# nan qiymat borligini aniqlab beradi\n",
    "# print(\"X_train NaN bormi? ->\", x_train.isnull().sum().sum())\n",
    "# print(\"y_train NaN bormi? ->\", y_train.isnull().sum())"
   ]
  },
  {
   "cell_type": "code",
   "execution_count": 30,
   "id": "cbd1c753",
   "metadata": {},
   "outputs": [],
   "source": [
    "# Oddiy: NaN larni ustun medianasi bilan to‘ldirish\n",
    "# x_train = x_train.fillna(x_train.median())\n",
    "# x_test = x_test.fillna(x_test.median())\n"
   ]
  },
  {
   "cell_type": "code",
   "execution_count": 36,
   "id": "ed4cfaa0",
   "metadata": {},
   "outputs": [],
   "source": [
    "df = df.replace([np.inf, -np.inf], np.nan)\n",
    "df = df.fillna(df.median())"
   ]
  },
  {
   "cell_type": "code",
   "execution_count": 37,
   "id": "661001a1",
   "metadata": {},
   "outputs": [],
   "source": [
    "x_train,x_test,y_train,y_test=train_test_split(x,y,test_size=0.2,random_state=42)"
   ]
  },
  {
   "cell_type": "code",
   "execution_count": 38,
   "id": "df0a874b",
   "metadata": {},
   "outputs": [
    {
     "data": {
      "text/plain": [
       "LinearRegression()"
      ]
     },
     "execution_count": 38,
     "metadata": {},
     "output_type": "execute_result"
    }
   ],
   "source": [
    "from sklearn.linear_model import LinearRegression\n",
    "\n",
    "model = LinearRegression()\n",
    "model.fit(x_train, y_train)\n"
   ]
  },
  {
   "cell_type": "code",
   "execution_count": 39,
   "id": "37cb98c3",
   "metadata": {},
   "outputs": [],
   "source": [
    "model_pred=model.predict(x_test)\n"
   ]
  },
  {
   "cell_type": "code",
   "execution_count": 40,
   "id": "28d18c5e",
   "metadata": {},
   "outputs": [
    {
     "data": {
      "text/plain": [
       "Text(0, 0.5, 'y_pred')"
      ]
     },
     "execution_count": 40,
     "metadata": {},
     "output_type": "execute_result"
    },
    {
     "data": {
      "image/png": "[encoded data removed]",
      "text/plain": [
       "<Figure size 432x288 with 1 Axes>"
      ]
     },
     "metadata": {
      "needs_background": "light"
     },
     "output_type": "display_data"
    }
   ],
   "source": [
    "fig = plt.figure()\n",
    "plt.scatter(y_test,model_pred)\n",
    "fig.suptitle('y_test vs y_pred', fontsize=20)              # Plot heading \n",
    "plt.xlabel('y_test', fontsize=18)                          # X-label\n",
    "plt.ylabel('y_pred', fontsize=16)    "
   ]
  },
  {
   "cell_type": "code",
   "execution_count": 33,
   "id": "5f2bd50a",
   "metadata": {},
   "outputs": [
    {
     "data": {
      "text/plain": [
       "array([[330.78640104],\n",
       "       [264.81459772],\n",
       "       [ 98.94423932],\n",
       "       ...,\n",
       "       [469.0152889 ],\n",
       "       [247.41362959],\n",
       "       [179.76728438]])"
      ]
     },
     "execution_count": 33,
     "metadata": {},
     "output_type": "execute_result"
    }
   ],
   "source": [
    "model_pred"
   ]
  },
  {
   "cell_type": "code",
   "execution_count": 27,
   "id": "bd59f912",
   "metadata": {},
   "outputs": [],
   "source": [
    "from sklearn.metrics import mean_squared_error, r2_score"
   ]
  },
  {
   "cell_type": "code",
   "execution_count": 28,
   "id": "09531e79",
   "metadata": {},
   "outputs": [
    {
     "name": "stdout",
     "output_type": "stream",
     "text": [
      "MSE (Xatolik): 4421.431664565771\n",
      "R² (Tushuntirilgan dispersiya): 0.8025734480337239\n"
     ]
    }
   ],
   "source": [
    "print(\"MSE (Xatolik):\", mean_squared_error(y_test, model_pred))\n",
    "print(\"R² (Tushuntirilgan dispersiya):\", r2_score(y_test, model_pred))"
   ]
  },
  {
   "cell_type": "markdown",
   "id": "b8f0b5a1",
   "metadata": {},
   "source": [
    "# Support Vector Mochine\n",
    "# SVR \n",
    "# SVC"
   ]
  },
  {
   "cell_type": "code",
   "execution_count": 69,
   "id": "300dc886",
   "metadata": {},
   "outputs": [],
   "source": [
    "import pandas as pd \n",
    "df=pd.read_csv('house_price.txt')"
   ]
  },
  {
   "cell_type": "code",
   "execution_count": 70,
   "id": "10ce587c",
   "metadata": {},
   "outputs": [
    {
     "name": "stdout",
     "output_type": "stream",
     "text": [
      "<class 'pandas.core.frame.DataFrame'>\n",
      "RangeIndex: 283901 entries, 0 to 283900\n",
      "Data columns (total 46 columns):\n",
      " #   Column                 Non-Null Count   Dtype  \n",
      "---  ------                 --------------   -----  \n",
      " 0   Unnamed: 0             283901 non-null  int64  \n",
      " 1   Lng                    283900 non-null  float64\n",
      " 2   Lat                    283901 non-null  float64\n",
      " 3   tradeTime              283901 non-null  int64  \n",
      " 4   followers              283901 non-null  float64\n",
      " 5   totalPrice             283901 non-null  float64\n",
      " 6   square                 283901 non-null  float64\n",
      " 7   livingRoom             283901 non-null  float64\n",
      " 8   drawingRoom            283901 non-null  float64\n",
      " 9   kitchen                283901 non-null  float64\n",
      " 10  bathRoom               283901 non-null  float64\n",
      " 11  constructionTime       283901 non-null  float64\n",
      " 12  ladderRatio            283901 non-null  float64\n",
      " 13  fiveYearsProperty      283901 non-null  float64\n",
      " 14  subway                 283901 non-null  float64\n",
      " 15  communityAverage       283901 non-null  float64\n",
      " 16  floor_height           283901 non-null  float64\n",
      " 17  renovationCondition_2  283901 non-null  int64  \n",
      " 18  renovationCondition_3  283901 non-null  int64  \n",
      " 19  renovationCondition_4  283901 non-null  int64  \n",
      " 20  buildingStructure_2    283901 non-null  int64  \n",
      " 21  buildingStructure_3    283901 non-null  int64  \n",
      " 22  buildingStructure_4    283901 non-null  int64  \n",
      " 23  buildingStructure_5    283901 non-null  int64  \n",
      " 24  buildingStructure_6    283901 non-null  int64  \n",
      " 25  buildingType_2.0       283901 non-null  int64  \n",
      " 26  buildingType_3.0       283901 non-null  int64  \n",
      " 27  buildingType_4.0       283901 non-null  int64  \n",
      " 28  district_2             283901 non-null  int64  \n",
      " 29  district_3             283901 non-null  int64  \n",
      " 30  district_4             283901 non-null  int64  \n",
      " 31  district_5             283901 non-null  int64  \n",
      " 32  district_6             283901 non-null  int64  \n",
      " 33  district_7             283901 non-null  int64  \n",
      " 34  district_8             283901 non-null  int64  \n",
      " 35  district_9             283901 non-null  int64  \n",
      " 36  district_10            283901 non-null  int64  \n",
      " 37  district_11            283901 non-null  int64  \n",
      " 38  district_12            283901 non-null  int64  \n",
      " 39  district_13            283901 non-null  int64  \n",
      " 40  elevator_1.0           283901 non-null  int64  \n",
      " 41  floor_type_低           283901 non-null  int64  \n",
      " 42  floor_type_底           283901 non-null  int64  \n",
      " 43  floor_type_未知          283901 non-null  int64  \n",
      " 44  floor_type_顶           283901 non-null  int64  \n",
      " 45  floor_type_高           283901 non-null  int64  \n",
      "dtypes: float64(15), int64(31)\n",
      "memory usage: 99.6 MB\n"
     ]
    }
   ],
   "source": [
    "df.info()"
   ]
  },
  {
   "cell_type": "code",
   "execution_count": 71,
   "id": "4984f5d7",
   "metadata": {},
   "outputs": [],
   "source": [
    "def tozala(df):\n",
    "    for col in df.columns:\n",
    "        if df[col].isnull().any():\n",
    "\n",
    "            if df[col].dtype=='object':\n",
    "                df[col].fillna(df[col].mode()[0],inplace=True)\n",
    "            else:\n",
    "                df[col].fillna(df[col].mean(),inplace=True)\n",
    "\n",
    "    return df\n",
    "    "
   ]
  },
  {
   "cell_type": "code",
   "execution_count": 72,
   "id": "22389d05",
   "metadata": {},
   "outputs": [
    {
     "data": {
      "text/html": [
       "<div>\n",
       "<style scoped>\n",
       "    .dataframe tbody tr th:only-of-type {\n",
       "        vertical-align: middle;\n",
       "    }\n",
       "\n",
       "    .dataframe tbody tr th {\n",
       "        vertical-align: top;\n",
       "    }\n",
       "\n",
       "    .dataframe thead th {\n",
       "        text-align: right;\n",
       "    }\n",
       "</style>\n",
       "<table border=\"1\" class=\"dataframe\">\n",
       "  <thead>\n",
       "    <tr style=\"text-align: right;\">\n",
       "      <th></th>\n",
       "      <th>Unnamed: 0</th>\n",
       "      <th>Lng</th>\n",
       "      <th>Lat</th>\n",
       "      <th>tradeTime</th>\n",
       "      <th>followers</th>\n",
       "      <th>totalPrice</th>\n",
       "      <th>square</th>\n",
       "      <th>livingRoom</th>\n",
       "      <th>drawingRoom</th>\n",
       "      <th>kitchen</th>\n",
       "      <th>...</th>\n",
       "      <th>district_10</th>\n",
       "      <th>district_11</th>\n",
       "      <th>district_12</th>\n",
       "      <th>district_13</th>\n",
       "      <th>elevator_1.0</th>\n",
       "      <th>floor_type_低</th>\n",
       "      <th>floor_type_底</th>\n",
       "      <th>floor_type_未知</th>\n",
       "      <th>floor_type_顶</th>\n",
       "      <th>floor_type_高</th>\n",
       "    </tr>\n",
       "  </thead>\n",
       "  <tbody>\n",
       "    <tr>\n",
       "      <th>0</th>\n",
       "      <td>0</td>\n",
       "      <td>0.000000</td>\n",
       "      <td>0.627253</td>\n",
       "      <td>2016</td>\n",
       "      <td>0.092738</td>\n",
       "      <td>415.0</td>\n",
       "      <td>0.272992</td>\n",
       "      <td>0.250</td>\n",
       "      <td>0.2</td>\n",
       "      <td>0.333333</td>\n",
       "      <td>...</td>\n",
       "      <td>0</td>\n",
       "      <td>0</td>\n",
       "      <td>0</td>\n",
       "      <td>0</td>\n",
       "      <td>1</td>\n",
       "      <td>0</td>\n",
       "      <td>0</td>\n",
       "      <td>0</td>\n",
       "      <td>0</td>\n",
       "      <td>1</td>\n",
       "    </tr>\n",
       "    <tr>\n",
       "      <th>1</th>\n",
       "      <td>1</td>\n",
       "      <td>0.597040</td>\n",
       "      <td>0.406733</td>\n",
       "      <td>2016</td>\n",
       "      <td>0.110236</td>\n",
       "      <td>575.0</td>\n",
       "      <td>0.276039</td>\n",
       "      <td>0.250</td>\n",
       "      <td>0.4</td>\n",
       "      <td>0.333333</td>\n",
       "      <td>...</td>\n",
       "      <td>0</td>\n",
       "      <td>0</td>\n",
       "      <td>0</td>\n",
       "      <td>0</td>\n",
       "      <td>1</td>\n",
       "      <td>0</td>\n",
       "      <td>0</td>\n",
       "      <td>0</td>\n",
       "      <td>0</td>\n",
       "      <td>1</td>\n",
       "    </tr>\n",
       "    <tr>\n",
       "      <th>2</th>\n",
       "      <td>3</td>\n",
       "      <td>0.572140</td>\n",
       "      <td>0.717698</td>\n",
       "      <td>2016</td>\n",
       "      <td>0.120735</td>\n",
       "      <td>297.5</td>\n",
       "      <td>0.279617</td>\n",
       "      <td>0.375</td>\n",
       "      <td>0.2</td>\n",
       "      <td>0.333333</td>\n",
       "      <td>...</td>\n",
       "      <td>0</td>\n",
       "      <td>0</td>\n",
       "      <td>0</td>\n",
       "      <td>0</td>\n",
       "      <td>1</td>\n",
       "      <td>0</td>\n",
       "      <td>1</td>\n",
       "      <td>0</td>\n",
       "      <td>0</td>\n",
       "      <td>0</td>\n",
       "    </tr>\n",
       "    <tr>\n",
       "      <th>3</th>\n",
       "      <td>4</td>\n",
       "      <td>0.557084</td>\n",
       "      <td>0.414236</td>\n",
       "      <td>2016</td>\n",
       "      <td>0.250219</td>\n",
       "      <td>392.0</td>\n",
       "      <td>0.162585</td>\n",
       "      <td>0.250</td>\n",
       "      <td>0.2</td>\n",
       "      <td>0.333333</td>\n",
       "      <td>...</td>\n",
       "      <td>0</td>\n",
       "      <td>0</td>\n",
       "      <td>0</td>\n",
       "      <td>0</td>\n",
       "      <td>0</td>\n",
       "      <td>0</td>\n",
       "      <td>0</td>\n",
       "      <td>0</td>\n",
       "      <td>0</td>\n",
       "      <td>0</td>\n",
       "    </tr>\n",
       "    <tr>\n",
       "      <th>4</th>\n",
       "      <td>5</td>\n",
       "      <td>0.616393</td>\n",
       "      <td>0.582255</td>\n",
       "      <td>2016</td>\n",
       "      <td>0.049869</td>\n",
       "      <td>275.6</td>\n",
       "      <td>0.100757</td>\n",
       "      <td>0.125</td>\n",
       "      <td>0.0</td>\n",
       "      <td>0.333333</td>\n",
       "      <td>...</td>\n",
       "      <td>0</td>\n",
       "      <td>0</td>\n",
       "      <td>0</td>\n",
       "      <td>0</td>\n",
       "      <td>1</td>\n",
       "      <td>0</td>\n",
       "      <td>0</td>\n",
       "      <td>0</td>\n",
       "      <td>0</td>\n",
       "      <td>0</td>\n",
       "    </tr>\n",
       "    <tr>\n",
       "      <th>...</th>\n",
       "      <td>...</td>\n",
       "      <td>...</td>\n",
       "      <td>...</td>\n",
       "      <td>...</td>\n",
       "      <td>...</td>\n",
       "      <td>...</td>\n",
       "      <td>...</td>\n",
       "      <td>...</td>\n",
       "      <td>...</td>\n",
       "      <td>...</td>\n",
       "      <td>...</td>\n",
       "      <td>...</td>\n",
       "      <td>...</td>\n",
       "      <td>...</td>\n",
       "      <td>...</td>\n",
       "      <td>...</td>\n",
       "      <td>...</td>\n",
       "      <td>...</td>\n",
       "      <td>...</td>\n",
       "      <td>...</td>\n",
       "      <td>...</td>\n",
       "    </tr>\n",
       "    <tr>\n",
       "      <th>283896</th>\n",
       "      <td>318845</td>\n",
       "      <td>0.742592</td>\n",
       "      <td>0.204891</td>\n",
       "      <td>2016</td>\n",
       "      <td>0.006999</td>\n",
       "      <td>355.5</td>\n",
       "      <td>0.280058</td>\n",
       "      <td>0.375</td>\n",
       "      <td>0.4</td>\n",
       "      <td>0.333333</td>\n",
       "      <td>...</td>\n",
       "      <td>0</td>\n",
       "      <td>0</td>\n",
       "      <td>0</td>\n",
       "      <td>0</td>\n",
       "      <td>1</td>\n",
       "      <td>0</td>\n",
       "      <td>0</td>\n",
       "      <td>0</td>\n",
       "      <td>0</td>\n",
       "      <td>0</td>\n",
       "    </tr>\n",
       "    <tr>\n",
       "      <th>283897</th>\n",
       "      <td>318846</td>\n",
       "      <td>0.742592</td>\n",
       "      <td>0.204891</td>\n",
       "      <td>2016</td>\n",
       "      <td>0.006999</td>\n",
       "      <td>350.0</td>\n",
       "      <td>0.359264</td>\n",
       "      <td>0.375</td>\n",
       "      <td>0.4</td>\n",
       "      <td>0.333333</td>\n",
       "      <td>...</td>\n",
       "      <td>0</td>\n",
       "      <td>0</td>\n",
       "      <td>0</td>\n",
       "      <td>0</td>\n",
       "      <td>0</td>\n",
       "      <td>0</td>\n",
       "      <td>0</td>\n",
       "      <td>0</td>\n",
       "      <td>0</td>\n",
       "      <td>0</td>\n",
       "    </tr>\n",
       "    <tr>\n",
       "      <th>283898</th>\n",
       "      <td>318847</td>\n",
       "      <td>0.665223</td>\n",
       "      <td>0.292595</td>\n",
       "      <td>2016</td>\n",
       "      <td>0.000875</td>\n",
       "      <td>108.8</td>\n",
       "      <td>0.061210</td>\n",
       "      <td>0.125</td>\n",
       "      <td>0.0</td>\n",
       "      <td>0.333333</td>\n",
       "      <td>...</td>\n",
       "      <td>0</td>\n",
       "      <td>0</td>\n",
       "      <td>0</td>\n",
       "      <td>0</td>\n",
       "      <td>1</td>\n",
       "      <td>0</td>\n",
       "      <td>0</td>\n",
       "      <td>0</td>\n",
       "      <td>0</td>\n",
       "      <td>0</td>\n",
       "    </tr>\n",
       "    <tr>\n",
       "      <th>283899</th>\n",
       "      <td>318848</td>\n",
       "      <td>0.664882</td>\n",
       "      <td>0.282952</td>\n",
       "      <td>2016</td>\n",
       "      <td>0.001750</td>\n",
       "      <td>359.0</td>\n",
       "      <td>0.209332</td>\n",
       "      <td>0.250</td>\n",
       "      <td>0.4</td>\n",
       "      <td>0.333333</td>\n",
       "      <td>...</td>\n",
       "      <td>0</td>\n",
       "      <td>0</td>\n",
       "      <td>0</td>\n",
       "      <td>0</td>\n",
       "      <td>1</td>\n",
       "      <td>0</td>\n",
       "      <td>0</td>\n",
       "      <td>0</td>\n",
       "      <td>0</td>\n",
       "      <td>0</td>\n",
       "    </tr>\n",
       "    <tr>\n",
       "      <th>283900</th>\n",
       "      <td>318849</td>\n",
       "      <td>0.671986</td>\n",
       "      <td>0.275386</td>\n",
       "      <td>2016</td>\n",
       "      <td>0.003500</td>\n",
       "      <td>720.0</td>\n",
       "      <td>0.377526</td>\n",
       "      <td>0.500</td>\n",
       "      <td>0.4</td>\n",
       "      <td>0.333333</td>\n",
       "      <td>...</td>\n",
       "      <td>0</td>\n",
       "      <td>0</td>\n",
       "      <td>0</td>\n",
       "      <td>0</td>\n",
       "      <td>0</td>\n",
       "      <td>0</td>\n",
       "      <td>0</td>\n",
       "      <td>0</td>\n",
       "      <td>0</td>\n",
       "      <td>0</td>\n",
       "    </tr>\n",
       "  </tbody>\n",
       "</table>\n",
       "<p>283901 rows × 46 columns</p>\n",
       "</div>"
      ],
      "text/plain": [
       "        Unnamed: 0       Lng       Lat  tradeTime  followers  totalPrice  \\\n",
       "0                0  0.000000  0.627253       2016   0.092738       415.0   \n",
       "1                1  0.597040  0.406733       2016   0.110236       575.0   \n",
       "2                3  0.572140  0.717698       2016   0.120735       297.5   \n",
       "3                4  0.557084  0.414236       2016   0.250219       392.0   \n",
       "4                5  0.616393  0.582255       2016   0.049869       275.6   \n",
       "...            ...       ...       ...        ...        ...         ...   \n",
       "283896      318845  0.742592  0.204891       2016   0.006999       355.5   \n",
       "283897      318846  0.742592  0.204891       2016   0.006999       350.0   \n",
       "283898      318847  0.665223  0.292595       2016   0.000875       108.8   \n",
       "283899      318848  0.664882  0.282952       2016   0.001750       359.0   \n",
       "283900      318849  0.671986  0.275386       2016   0.003500       720.0   \n",
       "\n",
       "          square  livingRoom  drawingRoom   kitchen  ...  district_10  \\\n",
       "0       0.272992       0.250          0.2  0.333333  ...            0   \n",
       "1       0.276039       0.250          0.4  0.333333  ...            0   \n",
       "2       0.279617       0.375          0.2  0.333333  ...            0   \n",
       "3       0.162585       0.250          0.2  0.333333  ...            0   \n",
       "4       0.100757       0.125          0.0  0.333333  ...            0   \n",
       "...          ...         ...          ...       ...  ...          ...   \n",
       "283896  0.280058       0.375          0.4  0.333333  ...            0   \n",
       "283897  0.359264       0.375          0.4  0.333333  ...            0   \n",
       "283898  0.061210       0.125          0.0  0.333333  ...            0   \n",
       "283899  0.209332       0.250          0.4  0.333333  ...            0   \n",
       "283900  0.377526       0.500          0.4  0.333333  ...            0   \n",
       "\n",
       "        district_11  district_12  district_13  elevator_1.0  floor_type_低  \\\n",
       "0                 0            0            0             1             0   \n",
       "1                 0            0            0             1             0   \n",
       "2                 0            0            0             1             0   \n",
       "3                 0            0            0             0             0   \n",
       "4                 0            0            0             1             0   \n",
       "...             ...          ...          ...           ...           ...   \n",
       "283896            0            0            0             1             0   \n",
       "283897            0            0            0             0             0   \n",
       "283898            0            0            0             1             0   \n",
       "283899            0            0            0             1             0   \n",
       "283900            0            0            0             0             0   \n",
       "\n",
       "        floor_type_底  floor_type_未知  floor_type_顶  floor_type_高  \n",
       "0                  0              0             0             1  \n",
       "1                  0              0             0             1  \n",
       "2                  1              0             0             0  \n",
       "3                  0              0             0             0  \n",
       "4                  0              0             0             0  \n",
       "...              ...            ...           ...           ...  \n",
       "283896             0              0             0             0  \n",
       "283897             0              0             0             0  \n",
       "283898             0              0             0             0  \n",
       "283899             0              0             0             0  \n",
       "283900             0              0             0             0  \n",
       "\n",
       "[283901 rows x 46 columns]"
      ]
     },
     "execution_count": 72,
     "metadata": {},
     "output_type": "execute_result"
    }
   ],
   "source": [
    "tozala(df)"
   ]
  },
  {
   "cell_type": "code",
   "execution_count": 73,
   "id": "c60cc25d",
   "metadata": {},
   "outputs": [
    {
     "name": "stdout",
     "output_type": "stream",
     "text": [
      "<class 'pandas.core.frame.DataFrame'>\n",
      "RangeIndex: 283901 entries, 0 to 283900\n",
      "Data columns (total 46 columns):\n",
      " #   Column                 Non-Null Count   Dtype  \n",
      "---  ------                 --------------   -----  \n",
      " 0   Unnamed: 0             283901 non-null  int64  \n",
      " 1   Lng                    283901 non-null  float64\n",
      " 2   Lat                    283901 non-null  float64\n",
      " 3   tradeTime              283901 non-null  int64  \n",
      " 4   followers              283901 non-null  float64\n",
      " 5   totalPrice             283901 non-null  float64\n",
      " 6   square                 283901 non-null  float64\n",
      " 7   livingRoom             283901 non-null  float64\n",
      " 8   drawingRoom            283901 non-null  float64\n",
      " 9   kitchen                283901 non-null  float64\n",
      " 10  bathRoom               283901 non-null  float64\n",
      " 11  constructionTime       283901 non-null  float64\n",
      " 12  ladderRatio            283901 non-null  float64\n",
      " 13  fiveYearsProperty      283901 non-null  float64\n",
      " 14  subway                 283901 non-null  float64\n",
      " 15  communityAverage       283901 non-null  float64\n",
      " 16  floor_height           283901 non-null  float64\n",
      " 17  renovationCondition_2  283901 non-null  int64  \n",
      " 18  renovationCondition_3  283901 non-null  int64  \n",
      " 19  renovationCondition_4  283901 non-null  int64  \n",
      " 20  buildingStructure_2    283901 non-null  int64  \n",
      " 21  buildingStructure_3    283901 non-null  int64  \n",
      " 22  buildingStructure_4    283901 non-null  int64  \n",
      " 23  buildingStructure_5    283901 non-null  int64  \n",
      " 24  buildingStructure_6    283901 non-null  int64  \n",
      " 25  buildingType_2.0       283901 non-null  int64  \n",
      " 26  buildingType_3.0       283901 non-null  int64  \n",
      " 27  buildingType_4.0       283901 non-null  int64  \n",
      " 28  district_2             283901 non-null  int64  \n",
      " 29  district_3             283901 non-null  int64  \n",
      " 30  district_4             283901 non-null  int64  \n",
      " 31  district_5             283901 non-null  int64  \n",
      " 32  district_6             283901 non-null  int64  \n",
      " 33  district_7             283901 non-null  int64  \n",
      " 34  district_8             283901 non-null  int64  \n",
      " 35  district_9             283901 non-null  int64  \n",
      " 36  district_10            283901 non-null  int64  \n",
      " 37  district_11            283901 non-null  int64  \n",
      " 38  district_12            283901 non-null  int64  \n",
      " 39  district_13            283901 non-null  int64  \n",
      " 40  elevator_1.0           283901 non-null  int64  \n",
      " 41  floor_type_低           283901 non-null  int64  \n",
      " 42  floor_type_底           283901 non-null  int64  \n",
      " 43  floor_type_未知          283901 non-null  int64  \n",
      " 44  floor_type_顶           283901 non-null  int64  \n",
      " 45  floor_type_高           283901 non-null  int64  \n",
      "dtypes: float64(15), int64(31)\n",
      "memory usage: 99.6 MB\n"
     ]
    }
   ],
   "source": [
    "df.info()"
   ]
  },
  {
   "cell_type": "code",
   "execution_count": 74,
   "id": "9f51c88d",
   "metadata": {},
   "outputs": [],
   "source": [
    "from sklearn.preprocessing import LabelEncoder\n",
    "encoding=LabelEncoder()"
   ]
  },
  {
   "cell_type": "code",
   "execution_count": 75,
   "id": "a89a2535",
   "metadata": {},
   "outputs": [],
   "source": [
    "def encodlash(df):\n",
    "    for col in df.columns:\n",
    "        if df[col].dtype=='object':\n",
    "            if df[col].nunique()<=6:\n",
    "                dummies=pd.get_dummies(df[col],prefix=col,dtype=int)\n",
    "                df=pd.concat([df.drop(columns=[col]),dummies],axis=1)\n",
    "            else:\n",
    "                df[col]=encoding.fit_transform(df[col])\n",
    "    return df\n"
   ]
  },
  {
   "cell_type": "code",
   "execution_count": 76,
   "id": "297b73ed",
   "metadata": {},
   "outputs": [],
   "source": [
    "df=encodlash(df)"
   ]
  },
  {
   "cell_type": "code",
   "execution_count": 77,
   "id": "cfc45df9",
   "metadata": {},
   "outputs": [
    {
     "name": "stdout",
     "output_type": "stream",
     "text": [
      "<class 'pandas.core.frame.DataFrame'>\n",
      "RangeIndex: 283901 entries, 0 to 283900\n",
      "Data columns (total 46 columns):\n",
      " #   Column                 Non-Null Count   Dtype  \n",
      "---  ------                 --------------   -----  \n",
      " 0   Unnamed: 0             283901 non-null  int64  \n",
      " 1   Lng                    283901 non-null  float64\n",
      " 2   Lat                    283901 non-null  float64\n",
      " 3   tradeTime              283901 non-null  int64  \n",
      " 4   followers              283901 non-null  float64\n",
      " 5   totalPrice             283901 non-null  float64\n",
      " 6   square                 283901 non-null  float64\n",
      " 7   livingRoom             283901 non-null  float64\n",
      " 8   drawingRoom            283901 non-null  float64\n",
      " 9   kitchen                283901 non-null  float64\n",
      " 10  bathRoom               283901 non-null  float64\n",
      " 11  constructionTime       283901 non-null  float64\n",
      " 12  ladderRatio            283901 non-null  float64\n",
      " 13  fiveYearsProperty      283901 non-null  float64\n",
      " 14  subway                 283901 non-null  float64\n",
      " 15  communityAverage       283901 non-null  float64\n",
      " 16  floor_height           283901 non-null  float64\n",
      " 17  renovationCondition_2  283901 non-null  int64  \n",
      " 18  renovationCondition_3  283901 non-null  int64  \n",
      " 19  renovationCondition_4  283901 non-null  int64  \n",
      " 20  buildingStructure_2    283901 non-null  int64  \n",
      " 21  buildingStructure_3    283901 non-null  int64  \n",
      " 22  buildingStructure_4    283901 non-null  int64  \n",
      " 23  buildingStructure_5    283901 non-null  int64  \n",
      " 24  buildingStructure_6    283901 non-null  int64  \n",
      " 25  buildingType_2.0       283901 non-null  int64  \n",
      " 26  buildingType_3.0       283901 non-null  int64  \n",
      " 27  buildingType_4.0       283901 non-null  int64  \n",
      " 28  district_2             283901 non-null  int64  \n",
      " 29  district_3             283901 non-null  int64  \n",
      " 30  district_4             283901 non-null  int64  \n",
      " 31  district_5             283901 non-null  int64  \n",
      " 32  district_6             283901 non-null  int64  \n",
      " 33  district_7             283901 non-null  int64  \n",
      " 34  district_8             283901 non-null  int64  \n",
      " 35  district_9             283901 non-null  int64  \n",
      " 36  district_10            283901 non-null  int64  \n",
      " 37  district_11            283901 non-null  int64  \n",
      " 38  district_12            283901 non-null  int64  \n",
      " 39  district_13            283901 non-null  int64  \n",
      " 40  elevator_1.0           283901 non-null  int64  \n",
      " 41  floor_type_低           283901 non-null  int64  \n",
      " 42  floor_type_底           283901 non-null  int64  \n",
      " 43  floor_type_未知          283901 non-null  int64  \n",
      " 44  floor_type_顶           283901 non-null  int64  \n",
      " 45  floor_type_高           283901 non-null  int64  \n",
      "dtypes: float64(15), int64(31)\n",
      "memory usage: 99.6 MB\n"
     ]
    }
   ],
   "source": [
    "df.info()"
   ]
  },
  {
   "cell_type": "code",
   "execution_count": 78,
   "id": "61518bc4",
   "metadata": {},
   "outputs": [],
   "source": [
    "from sklearn.preprocessing import StandardScaler\n",
    "standart_scaler=StandardScaler()\n",
    "def scaling_qil(df):\n",
    "    numerical_col=df.select_dtypes(include=['int32','int64','float64']).columns.drop('totalPrice')\n",
    "    df[numerical_col]=standart_scaler.fit_transform(df[numerical_col])\n",
    "    return df\n",
    "    \n"
   ]
  },
  {
   "cell_type": "code",
   "execution_count": 79,
   "id": "e116b835",
   "metadata": {},
   "outputs": [],
   "source": [
    "df=scaling_qil(df)"
   ]
  },
  {
   "cell_type": "code",
   "execution_count": 80,
   "id": "8a11e73f",
   "metadata": {},
   "outputs": [
    {
     "data": {
      "text/html": [
       "<div>\n",
       "<style scoped>\n",
       "    .dataframe tbody tr th:only-of-type {\n",
       "        vertical-align: middle;\n",
       "    }\n",
       "\n",
       "    .dataframe tbody tr th {\n",
       "        vertical-align: top;\n",
       "    }\n",
       "\n",
       "    .dataframe thead th {\n",
       "        text-align: right;\n",
       "    }\n",
       "</style>\n",
       "<table border=\"1\" class=\"dataframe\">\n",
       "  <thead>\n",
       "    <tr style=\"text-align: right;\">\n",
       "      <th></th>\n",
       "      <th>Unnamed: 0</th>\n",
       "      <th>Lng</th>\n",
       "      <th>Lat</th>\n",
       "      <th>tradeTime</th>\n",
       "      <th>followers</th>\n",
       "      <th>totalPrice</th>\n",
       "      <th>square</th>\n",
       "      <th>livingRoom</th>\n",
       "      <th>drawingRoom</th>\n",
       "      <th>kitchen</th>\n",
       "      <th>...</th>\n",
       "      <th>district_10</th>\n",
       "      <th>district_11</th>\n",
       "      <th>district_12</th>\n",
       "      <th>district_13</th>\n",
       "      <th>elevator_1.0</th>\n",
       "      <th>floor_type_低</th>\n",
       "      <th>floor_type_底</th>\n",
       "      <th>floor_type_未知</th>\n",
       "      <th>floor_type_顶</th>\n",
       "      <th>floor_type_高</th>\n",
       "    </tr>\n",
       "  </thead>\n",
       "  <tbody>\n",
       "    <tr>\n",
       "      <th>0</th>\n",
       "      <td>-1.750975</td>\n",
       "      <td>-3.077070</td>\n",
       "      <td>0.750755</td>\n",
       "      <td>0.757725</td>\n",
       "      <td>2.591319</td>\n",
       "      <td>415.0</td>\n",
       "      <td>1.636200</td>\n",
       "      <td>0.045206</td>\n",
       "      <td>-0.297015</td>\n",
       "      <td>0.06223</td>\n",
       "      <td>...</td>\n",
       "      <td>-0.320501</td>\n",
       "      <td>-0.210683</td>\n",
       "      <td>-0.075685</td>\n",
       "      <td>-0.179334</td>\n",
       "      <td>0.892755</td>\n",
       "      <td>-0.4987</td>\n",
       "      <td>-0.296602</td>\n",
       "      <td>-0.057514</td>\n",
       "      <td>-0.372451</td>\n",
       "      <td>1.888642</td>\n",
       "    </tr>\n",
       "    <tr>\n",
       "      <th>1</th>\n",
       "      <td>-1.750964</td>\n",
       "      <td>0.308281</td>\n",
       "      <td>-0.733525</td>\n",
       "      <td>0.757725</td>\n",
       "      <td>3.171573</td>\n",
       "      <td>575.0</td>\n",
       "      <td>1.680110</td>\n",
       "      <td>0.045206</td>\n",
       "      <td>1.699595</td>\n",
       "      <td>0.06223</td>\n",
       "      <td>...</td>\n",
       "      <td>-0.320501</td>\n",
       "      <td>-0.210683</td>\n",
       "      <td>-0.075685</td>\n",
       "      <td>-0.179334</td>\n",
       "      <td>0.892755</td>\n",
       "      <td>-0.4987</td>\n",
       "      <td>-0.296602</td>\n",
       "      <td>-0.057514</td>\n",
       "      <td>-0.372451</td>\n",
       "      <td>1.888642</td>\n",
       "    </tr>\n",
       "    <tr>\n",
       "      <th>2</th>\n",
       "      <td>-1.750942</td>\n",
       "      <td>0.167089</td>\n",
       "      <td>1.359522</td>\n",
       "      <td>0.757725</td>\n",
       "      <td>3.519726</td>\n",
       "      <td>297.5</td>\n",
       "      <td>1.731657</td>\n",
       "      <td>1.402143</td>\n",
       "      <td>-0.297015</td>\n",
       "      <td>0.06223</td>\n",
       "      <td>...</td>\n",
       "      <td>-0.320501</td>\n",
       "      <td>-0.210683</td>\n",
       "      <td>-0.075685</td>\n",
       "      <td>-0.179334</td>\n",
       "      <td>0.892755</td>\n",
       "      <td>-0.4987</td>\n",
       "      <td>3.371525</td>\n",
       "      <td>-0.057514</td>\n",
       "      <td>-0.372451</td>\n",
       "      <td>-0.529481</td>\n",
       "    </tr>\n",
       "    <tr>\n",
       "      <th>3</th>\n",
       "      <td>-1.750931</td>\n",
       "      <td>0.081720</td>\n",
       "      <td>-0.683022</td>\n",
       "      <td>0.757725</td>\n",
       "      <td>7.813605</td>\n",
       "      <td>392.0</td>\n",
       "      <td>0.045247</td>\n",
       "      <td>0.045206</td>\n",
       "      <td>-0.297015</td>\n",
       "      <td>0.06223</td>\n",
       "      <td>...</td>\n",
       "      <td>-0.320501</td>\n",
       "      <td>-0.210683</td>\n",
       "      <td>-0.075685</td>\n",
       "      <td>-0.179334</td>\n",
       "      <td>-1.120128</td>\n",
       "      <td>-0.4987</td>\n",
       "      <td>-0.296602</td>\n",
       "      <td>-0.057514</td>\n",
       "      <td>-0.372451</td>\n",
       "      <td>-0.529481</td>\n",
       "    </tr>\n",
       "    <tr>\n",
       "      <th>4</th>\n",
       "      <td>-1.750920</td>\n",
       "      <td>0.418015</td>\n",
       "      <td>0.447877</td>\n",
       "      <td>0.757725</td>\n",
       "      <td>1.169697</td>\n",
       "      <td>275.6</td>\n",
       "      <td>-0.845686</td>\n",
       "      <td>-1.311731</td>\n",
       "      <td>-2.293625</td>\n",
       "      <td>0.06223</td>\n",
       "      <td>...</td>\n",
       "      <td>-0.320501</td>\n",
       "      <td>-0.210683</td>\n",
       "      <td>-0.075685</td>\n",
       "      <td>-0.179334</td>\n",
       "      <td>0.892755</td>\n",
       "      <td>-0.4987</td>\n",
       "      <td>-0.296602</td>\n",
       "      <td>-0.057514</td>\n",
       "      <td>-0.372451</td>\n",
       "      <td>-0.529481</td>\n",
       "    </tr>\n",
       "  </tbody>\n",
       "</table>\n",
       "<p>5 rows × 46 columns</p>\n",
       "</div>"
      ],
      "text/plain": [
       "   Unnamed: 0       Lng       Lat  tradeTime  followers  totalPrice    square  \\\n",
       "0   -1.750975 -3.077070  0.750755   0.757725   2.591319       415.0  1.636200   \n",
       "1   -1.750964  0.308281 -0.733525   0.757725   3.171573       575.0  1.680110   \n",
       "2   -1.750942  0.167089  1.359522   0.757725   3.519726       297.5  1.731657   \n",
       "3   -1.750931  0.081720 -0.683022   0.757725   7.813605       392.0  0.045247   \n",
       "4   -1.750920  0.418015  0.447877   0.757725   1.169697       275.6 -0.845686   \n",
       "\n",
       "   livingRoom  drawingRoom  kitchen  ...  district_10  district_11  \\\n",
       "0    0.045206    -0.297015  0.06223  ...    -0.320501    -0.210683   \n",
       "1    0.045206     1.699595  0.06223  ...    -0.320501    -0.210683   \n",
       "2    1.402143    -0.297015  0.06223  ...    -0.320501    -0.210683   \n",
       "3    0.045206    -0.297015  0.06223  ...    -0.320501    -0.210683   \n",
       "4   -1.311731    -2.293625  0.06223  ...    -0.320501    -0.210683   \n",
       "\n",
       "   district_12  district_13  elevator_1.0  floor_type_低  floor_type_底  \\\n",
       "0    -0.075685    -0.179334      0.892755       -0.4987     -0.296602   \n",
       "1    -0.075685    -0.179334      0.892755       -0.4987     -0.296602   \n",
       "2    -0.075685    -0.179334      0.892755       -0.4987      3.371525   \n",
       "3    -0.075685    -0.179334     -1.120128       -0.4987     -0.296602   \n",
       "4    -0.075685    -0.179334      0.892755       -0.4987     -0.296602   \n",
       "\n",
       "   floor_type_未知  floor_type_顶  floor_type_高  \n",
       "0      -0.057514     -0.372451      1.888642  \n",
       "1      -0.057514     -0.372451      1.888642  \n",
       "2      -0.057514     -0.372451     -0.529481  \n",
       "3      -0.057514     -0.372451     -0.529481  \n",
       "4      -0.057514     -0.372451     -0.529481  \n",
       "\n",
       "[5 rows x 46 columns]"
      ]
     },
     "execution_count": 80,
     "metadata": {},
     "output_type": "execute_result"
    }
   ],
   "source": [
    "df.head()"
   ]
  },
  {
   "cell_type": "code",
   "execution_count": 81,
   "id": "6a32392c",
   "metadata": {},
   "outputs": [],
   "source": [
    "from sklearn.model_selection import train_test_split"
   ]
  },
  {
   "cell_type": "code",
   "execution_count": 82,
   "id": "fae2bf5e",
   "metadata": {},
   "outputs": [],
   "source": [
    "x=df.drop('totalPrice',axis=1)\n",
    "y=df['totalPrice']"
   ]
  },
  {
   "cell_type": "code",
   "execution_count": 83,
   "id": "c7855ad4",
   "metadata": {},
   "outputs": [],
   "source": [
    "from sklearn.model_selection import train_test_split"
   ]
  },
  {
   "cell_type": "code",
   "execution_count": 84,
   "id": "951e9b12",
   "metadata": {},
   "outputs": [],
   "source": [
    "x_train,x_test,y_train,y_test=train_test_split(x,y,test_size=0.2, random_state=42)"
   ]
  },
  {
   "cell_type": "code",
   "execution_count": 85,
   "id": "28e94e75",
   "metadata": {},
   "outputs": [],
   "source": [
    "from sklearn.svm import SVR"
   ]
  },
  {
   "cell_type": "code",
   "execution_count": 86,
   "id": "046aa7ef",
   "metadata": {},
   "outputs": [],
   "source": [
    "model=SVR(kernel='linear')"
   ]
  },
  {
   "cell_type": "code",
   "execution_count": 87,
   "id": "eb9fdca7",
   "metadata": {},
   "outputs": [
    {
     "data": {
      "text/plain": [
       "SVR(kernel='linear')"
      ]
     },
     "execution_count": 87,
     "metadata": {},
     "output_type": "execute_result"
    }
   ],
   "source": [
    "model"
   ]
  },
  {
   "cell_type": "code",
   "execution_count": null,
   "id": "61791820",
   "metadata": {},
   "outputs": [],
   "source": [
    "model.fit(x_train,y_train)"
   ]
  },
  {
   "cell_type": "code",
   "execution_count": null,
   "id": "1dd7c088",
   "metadata": {},
   "outputs": [],
   "source": [
    "model_pred= model.predict(x_test)"
   ]
  },
  {
   "cell_type": "code",
   "execution_count": 64,
   "id": "a97178cf",
   "metadata": {},
   "outputs": [],
   "source": [
    "from sklearn.metrics import accuracy_score, r2_score"
   ]
  },
  {
   "cell_type": "code",
   "execution_count": 66,
   "id": "8ff9419f",
   "metadata": {},
   "outputs": [],
   "source": [
    "class_score=r2_score(y_test,pred)"
   ]
  },
  {
   "cell_type": "code",
   "execution_count": null,
   "id": "4c9b7d0b",
   "metadata": {},
   "outputs": [],
   "source": [
    "print(\"MSE (Xatolik):\", mean_squared_error(y_test, model_pred))\n",
    "print(\"R² (Tushuntirilgan dispersiya):\", r2_score(y_test, model_pred))"
   ]
  },
  {
   "cell_type": "code",
   "execution_count": null,
   "id": "06b8f00e",
   "metadata": {},
   "outputs": [],
   "source": [
    "class_score"
   ]
  },
  {
   "cell_type": "code",
   "execution_count": null,
   "id": "625b1f50",
   "metadata": {},
   "outputs": [],
   "source": []
  },
  {
   "cell_type": "markdown",
   "id": "e8f38c31",
   "metadata": {},
   "source": [
    "# RandomForestRegressor bilan siansh\n"
   ]
  },
  {
   "cell_type": "code",
   "execution_count": 61,
   "id": "17183119",
   "metadata": {},
   "outputs": [],
   "source": [
    "\n",
    "y = df['totalPrice']\n",
    "x = df.drop(columns=['totalPrice'])  \n"
   ]
  },
  {
   "cell_type": "code",
   "execution_count": 62,
   "id": "0acc49cb",
   "metadata": {},
   "outputs": [],
   "source": [
    "from sklearn.model_selection import train_test_split\n",
    "x_train, x_test, y_train, y_test = train_test_split(x, y, test_size=0.2, random_state=42)"
   ]
  },
  {
   "cell_type": "code",
   "execution_count": 63,
   "id": "42ab546d",
   "metadata": {},
   "outputs": [],
   "source": [
    "\n",
    "#  RandomForestRegressor\n",
    "from sklearn.ensemble import RandomForestRegressor\n",
    "model = RandomForestRegressor()"
   ]
  },
  {
   "cell_type": "code",
   "execution_count": 64,
   "id": "43680c83",
   "metadata": {},
   "outputs": [
    {
     "data": {
      "text/plain": [
       "RandomForestRegressor()"
      ]
     },
     "execution_count": 64,
     "metadata": {},
     "output_type": "execute_result"
    }
   ],
   "source": [
    "model.fit(x_train, y_train)"
   ]
  },
  {
   "cell_type": "code",
   "execution_count": 65,
   "id": "fe905804",
   "metadata": {},
   "outputs": [],
   "source": [
    "# Baholash\n",
    "from sklearn.metrics import mean_squared_error, r2_score"
   ]
  },
  {
   "cell_type": "code",
   "execution_count": 66,
   "id": "871e306f",
   "metadata": {},
   "outputs": [],
   "source": [
    "y_pred = model.predict(x_test)"
   ]
  },
  {
   "cell_type": "code",
   "execution_count": 67,
   "id": "04eeac18",
   "metadata": {},
   "outputs": [
    {
     "name": "stdout",
     "output_type": "stream",
     "text": [
      "MSE: 1336.923653373047\n",
      "R2: 0.9403034475817191\n"
     ]
    }
   ],
   "source": [
    "print(\"MSE:\", mean_squared_error(y_test, y_pred))\n",
    "print(\"R2:\", r2_score(y_test, y_pred))"
   ]
  },
  {
   "cell_type": "markdown",
   "id": "36799e56",
   "metadata": {},
   "source": [
    "# DecisionTreeRegressor orqali tekshirish"
   ]
  },
  {
   "cell_type": "code",
   "execution_count": null,
   "id": "80f76458",
   "metadata": {},
   "outputs": [
    {
     "name": "stdout",
     "output_type": "stream",
     "text": [
      "MSE: 4038.0789418044606\n",
      "R2: 0.8186567196217691\n"
     ]
    }
   ],
   "source": [
    "from sklearn.model_selection import train_test_split\n",
    "from sklearn.tree import DecisionTreeRegressor\n",
    "from sklearn.metrics import mean_squared_error, r2_score\n",
    "\n",
    "y = df['totalPrice']\n",
    "\n",
    "x = df.drop(columns=['totalPrice', 'Unnamed: 0'])\n",
    "\n",
    "x_train, x_test, y_train, y_test = train_test_split(x, y, test_size=0.3, random_state=42)\n",
    "\n",
    "# DecisionTreeRegressor\n",
    "model = DecisionTreeRegressor(random_state=42)\n",
    "model.fit(x_train, y_train)\n",
    "\n",
    "# Baholash\n",
    "y_pred = model.predict(x_test)\n",
    "print(\"MSE:\", mean_squared_error(y_test, y_pred))\n",
    "print(\"R2:\", r2_score(y_test, y_pred))\n"
   ]
  },
  {
   "cell_type": "code",
   "execution_count": null,
   "id": "31dce617",
   "metadata": {},
   "outputs": [],
   "source": []
  },
  {
   "cell_type": "code",
   "execution_count": null,
   "id": "c534a71f",
   "metadata": {},
   "outputs": [],
   "source": []
  }
 ],
 "metadata": {
  "kernelspec": {
   "display_name": "base",
   "language": "python",
   "name": "python3"
  },
  "language_info": {
   "codemirror_mode": {
    "name": "ipython",
    "version": 3
   },
   "file_extension": ".py",
   "mimetype": "text/x-python",
   "name": "python",
   "nbconvert_exporter": "python",
   "pygments_lexer": "ipython3",
   "version": "3.8.8"
  }
 },
 "nbformat": 4,
 "nbformat_minor": 5
}
